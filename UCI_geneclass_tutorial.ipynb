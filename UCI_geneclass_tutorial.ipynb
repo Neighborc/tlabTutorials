{
  "nbformat": 4,
  "nbformat_minor": 0,
  "metadata": {
    "colab": {
      "name": "UCI_geneclass_tutorial.ipynb",
      "provenance": [],
      "collapsed_sections": [],
      "toc_visible": true,
      "include_colab_link": true
    },
    "kernelspec": {
      "name": "python3",
      "display_name": "Python 3"
    },
    "accelerator": "TPU"
  },
  "cells": [
    {
      "cell_type": "markdown",
      "metadata": {
        "id": "view-in-github",
        "colab_type": "text"
      },
      "source": [
        "<a href=\"https://colab.research.google.com/github/Neighborc/tlabTutorials/blob/master/UCI_geneclass_tutorial.ipynb\" target=\"_parent\"><img src=\"https://colab.research.google.com/assets/colab-badge.svg\" alt=\"Open In Colab\"/></a>"
      ]
    },
    {
      "cell_type": "markdown",
      "metadata": {
        "id": "EW_WW47Tp-Aj",
        "colab_type": "text"
      },
      "source": [
        "## Tutorial on UCI splice dataset\n",
        "The purpose of this tutorial is to give an introdution to processing and evaluating genomic data.\n",
        "A lot of genome data is kept in .fasta format which basically looks like:\n",
        "\n",
        "\\>IDNumber1 and description\n",
        "\n",
        "ATCTGCTAGCTAGTCAG......\n",
        "\n",
        "\\>IDNumber2\n",
        "\n",
        "ATCTCTCT....\n",
        "\n",
        "Converting these files from nucleotide strings into a useful format for model training and testing is a main purpose of this tutorial. \n",
        "\n",
        "This particular dataset involves the task of trying to classify a dataset of genome sequences which are 60 base pairs long and have the classes of: introns, exons, or neither\n",
        "\n",
        "###This dataset and a more thorough description of the task can be found [here][1]\n",
        "\n",
        "\n",
        "[1]:https://archive.ics.uci.edu/ml/datasets/Molecular+Biology+(Splice-junction+Gene+Sequences)"
      ]
    },
    {
      "cell_type": "code",
      "metadata": {
        "id": "sp1UmWDGJvTl",
        "colab_type": "code",
        "colab": {}
      },
      "source": [
        "import numpy as np\n",
        "import pandas as pd\n",
        "import matplotlib.pyplot as plt\n",
        "%matplotlib inline\n",
        "import seaborn as sns\n",
        "\n",
        "import time\n",
        "import os"
      ],
      "execution_count": 0,
      "outputs": []
    },
    {
      "cell_type": "markdown",
      "metadata": {
        "id": "kliEsgKeqfZR",
        "colab_type": "text"
      },
      "source": [
        "### Install Biopython\n",
        "A great library for handling biological files and data is called [Biopython][1] and has good documentation as well. \n",
        "\n",
        "Fun fact you can run command line commands from a Jupyter notebook using the ! command\n",
        "\n",
        "Run this cell if you need to install Biopython\n",
        "\n",
        "[1]:https://biopython.org/"
      ]
    },
    {
      "cell_type": "code",
      "metadata": {
        "id": "T1GJJTvgIZaP",
        "colab_type": "code",
        "outputId": "47ad72e9-f4ec-4466-cbcd-edc002216f79",
        "colab": {
          "base_uri": "https://localhost:8080/",
          "height": 119
        }
      },
      "source": [
        "!pip install biopython"
      ],
      "execution_count": 0,
      "outputs": [
        {
          "output_type": "stream",
          "text": [
            "Collecting biopython\n",
            "\u001b[?25l  Downloading https://files.pythonhosted.org/packages/83/3d/e0c8a993dbea1136be90c31345aefc5babdd5046cd52f81c18fc3fdad865/biopython-1.76-cp36-cp36m-manylinux1_x86_64.whl (2.3MB)\n",
            "\u001b[K     |████████████████████████████████| 2.3MB 3.5MB/s \n",
            "\u001b[?25hRequirement already satisfied: numpy in /usr/local/lib/python3.6/dist-packages (from biopython) (1.17.4)\n",
            "Installing collected packages: biopython\n",
            "Successfully installed biopython-1.76\n"
          ],
          "name": "stdout"
        }
      ]
    },
    {
      "cell_type": "markdown",
      "metadata": {
        "colab_type": "text",
        "id": "TRtTQaISco1W"
      },
      "source": [
        "# Preprocess and clean data\n",
        "In this case I looked at the data in 'splice.data' and found that it had 3 columns separated by commas and the classes were in the first columns while the sequences were in the third. \n",
        "\n",
        "Note after I had already cleaned the data I found an example online of how someone else had done it [here][1]. He does it a bit differently, but it can be good to explore alternatives.\n",
        "\n",
        "\n",
        "[1]:https://jss367.github.io/Clean-DNA-Dataset.html"
      ]
    },
    {
      "cell_type": "markdown",
      "metadata": {
        "id": "ZmOBnic8JvTz",
        "colab_type": "text"
      },
      "source": [
        "__Steps to Take__\n",
        "\n",
        "Steps:\n",
        "1. Import the data and visualize\n",
        "2. Strip the whitespace from the sequences\n",
        "2. One-hot encode the category\n",
        "5. Save the file in a cleaner format, in this case fasta. \n",
        "This step was done since other genome data is saved in fasta format and this will be helpful for processing other datasets. \n",
        "6. Import the file again and encode"
      ]
    },
    {
      "cell_type": "code",
      "metadata": {
        "id": "BKaVhNlXrDvj",
        "colab_type": "code",
        "outputId": "4012405b-6451-42e5-cb2e-a56670d3f7b8",
        "colab": {
          "base_uri": "https://localhost:8080/",
          "height": 221
        }
      },
      "source": [
        "# first we just visualize the data\n",
        "df = pd.read_csv(\"splice.data\", names=['Class', 'Instance', 'Sequence'])\n",
        "print('Number of samples, columns :', df.shape)\n",
        "df.head()    "
      ],
      "execution_count": 0,
      "outputs": [
        {
          "output_type": "stream",
          "text": [
            "Number of samples, columns : (3190, 3)\n"
          ],
          "name": "stdout"
        },
        {
          "output_type": "execute_result",
          "data": {
            "text/html": [
              "<div>\n",
              "<style scoped>\n",
              "    .dataframe tbody tr th:only-of-type {\n",
              "        vertical-align: middle;\n",
              "    }\n",
              "\n",
              "    .dataframe tbody tr th {\n",
              "        vertical-align: top;\n",
              "    }\n",
              "\n",
              "    .dataframe thead th {\n",
              "        text-align: right;\n",
              "    }\n",
              "</style>\n",
              "<table border=\"1\" class=\"dataframe\">\n",
              "  <thead>\n",
              "    <tr style=\"text-align: right;\">\n",
              "      <th></th>\n",
              "      <th>Class</th>\n",
              "      <th>Instance</th>\n",
              "      <th>Sequence</th>\n",
              "    </tr>\n",
              "  </thead>\n",
              "  <tbody>\n",
              "    <tr>\n",
              "      <th>0</th>\n",
              "      <td>EI</td>\n",
              "      <td>ATRINS-DONOR-521</td>\n",
              "      <td>CCAGCTGCATCACAGGAGGCCAGCGAGCAGG...</td>\n",
              "    </tr>\n",
              "    <tr>\n",
              "      <th>1</th>\n",
              "      <td>EI</td>\n",
              "      <td>ATRINS-DONOR-905</td>\n",
              "      <td>AGACCCGCCGGGAGGCGGAGGACCTGCAGGG...</td>\n",
              "    </tr>\n",
              "    <tr>\n",
              "      <th>2</th>\n",
              "      <td>EI</td>\n",
              "      <td>BABAPOE-DONOR-30</td>\n",
              "      <td>GAGGTGAAGGACGTCCTTCCCCAGGAGCCGG...</td>\n",
              "    </tr>\n",
              "    <tr>\n",
              "      <th>3</th>\n",
              "      <td>EI</td>\n",
              "      <td>BABAPOE-DONOR-867</td>\n",
              "      <td>GGGCTGCGTTGCTGGTCACATTCCTGGCAGGT...</td>\n",
              "    </tr>\n",
              "    <tr>\n",
              "      <th>4</th>\n",
              "      <td>EI</td>\n",
              "      <td>BABAPOE-DONOR-2817</td>\n",
              "      <td>GCTCAGCCCCCAGGTCACCCAGGAACTGACGTG...</td>\n",
              "    </tr>\n",
              "  </tbody>\n",
              "</table>\n",
              "</div>"
            ],
            "text/plain": [
              "  Class  ...                                           Sequence\n",
              "0    EI  ...                 CCAGCTGCATCACAGGAGGCCAGCGAGCAGG...\n",
              "1    EI  ...                 AGACCCGCCGGGAGGCGGAGGACCTGCAGGG...\n",
              "2    EI  ...                 GAGGTGAAGGACGTCCTTCCCCAGGAGCCGG...\n",
              "3    EI  ...                GGGCTGCGTTGCTGGTCACATTCCTGGCAGGT...\n",
              "4    EI  ...               GCTCAGCCCCCAGGTCACCCAGGAACTGACGTG...\n",
              "\n",
              "[5 rows x 3 columns]"
            ]
          },
          "metadata": {
            "tags": []
          },
          "execution_count": 3
        }
      ]
    },
    {
      "cell_type": "code",
      "metadata": {
        "id": "TM45rAfCYJoE",
        "colab_type": "code",
        "colab": {}
      },
      "source": [
        "# Import the file, you may need to adjust path, this assumes it's in cwd\n",
        "path = os.getcwd()\n",
        "filename = '/splice.data'\n",
        "f=open(path + filename,\"r\")"
      ],
      "execution_count": 0,
      "outputs": []
    },
    {
      "cell_type": "code",
      "metadata": {
        "id": "QRq2cXoPZh-b",
        "colab_type": "code",
        "colab": {}
      },
      "source": [
        "# puts the data into a list array Nx3, and removes newlines\n",
        "lines = [line.rstrip('\\n') for line in f]\n",
        "\n",
        "all_items = []\n",
        "for item in lines:\n",
        "  # strips whitespace\n",
        "  items = item.replace(\" \",\"\")\n",
        "  items = items.split(',')\n",
        "  all_items.append(items)\n",
        "\n",
        "data_array = np.asarray(all_items)\n",
        "\n",
        "# takes the useful columns\n",
        "x_sequences = data_array[:,2]\n",
        "y_category = data_array[:,0]"
      ],
      "execution_count": 0,
      "outputs": []
    },
    {
      "cell_type": "markdown",
      "metadata": {
        "id": "vzE-ffGnScHf",
        "colab_type": "text"
      },
      "source": [
        "__Step 4 Create function for saving to fasta file__\n",
        "\n",
        "This just makes it easier to manipulate the data later since the second column doesn't provide any useful information. Also other genome data can be in a fasta format. "
      ]
    },
    {
      "cell_type": "code",
      "metadata": {
        "id": "P_KfraceAQVt",
        "colab_type": "code",
        "colab": {}
      },
      "source": [
        "def write_sequences_to_fasta(sequences, output_filename):\n",
        "    \"\"\"\n",
        "    Converts an array into a .fasta file format and saves it\n",
        "    \n",
        "    Inputs:\n",
        "      :param sequences: an array with each element is the sequence to be written\n",
        "      :param output_filename: Location to write the fasta file \n",
        "    \"\"\"\n",
        "  \n",
        "    file = open(output_filename, 'w')\n",
        "    \n",
        "    for i in range(len(sequences)):\n",
        "        file.write('>seq' + str(i) + '\\n' + sequences[i] + '\\n')\n",
        "    file.close()\n",
        "    print('Sequences successfully written to ' + output_filename)"
      ],
      "execution_count": 0,
      "outputs": []
    },
    {
      "cell_type": "code",
      "metadata": {
        "id": "-mJSkw-KbtGP",
        "colab_type": "code",
        "outputId": "b8903007-4515-4e48-9b9d-7571a8022334",
        "colab": {
          "base_uri": "https://localhost:8080/",
          "height": 34
        }
      },
      "source": [
        "# use our function on the sequences we've extracted\n",
        "write_sequences_to_fasta(x_sequences, path+'/UCIsequences.fa')"
      ],
      "execution_count": 0,
      "outputs": [
        {
          "output_type": "stream",
          "text": [
            "Sequences successfully written to /content/UCIsequences.fa\n"
          ],
          "name": "stdout"
        }
      ]
    },
    {
      "cell_type": "markdown",
      "metadata": {
        "id": "_Fmi01iZxYmt",
        "colab_type": "text"
      },
      "source": [
        "We now have our sequence data saved in a .fasta file. We don't have the labels saved with it though so we should keep track of that separately. You could alter the code to incorporate labels or just include the labels in a separate file which is loaded in with the fasta file. Explore what works best. \n",
        "\n",
        "__Label one-hot encoding__\n",
        "\n",
        "Our final layer of the classifier will be a softmax since we are attempting to classify between 3 different classes. \n",
        "Therefore we need to encode the class labels. We can use a tool from scikit-learn to perform this action.\n",
        "\n",
        "This assigns the values of the categories as such:\n",
        "\n",
        "EI = [1,0,0]\n",
        "\n",
        "IE = [0,1,0]\n",
        "\n",
        "N = [0,0,1]"
      ]
    },
    {
      "cell_type": "code",
      "metadata": {
        "id": "IA2FblaHdRXu",
        "colab_type": "code",
        "colab": {}
      },
      "source": [
        "from sklearn import preprocessing\n",
        "\n",
        "y_category = y_category.reshape(-1,1)\n",
        "enc = preprocessing.OneHotEncoder()\n",
        "enc.fit(y_category)\n",
        "one_hot_labels = enc.transform(y_category).toarray()\n",
        "y_data = one_hot_labels"
      ],
      "execution_count": 0,
      "outputs": []
    },
    {
      "cell_type": "markdown",
      "metadata": {
        "id": "vL3bqjo02kpd",
        "colab_type": "text"
      },
      "source": [
        "## Encoding DNA Sequences\n",
        "\n",
        "A typical DNA sequence constists of a string of nucleotides, ATCG. In order to process the data and train with it these need to be encoded numerically. There are several ways to encode such as ordinal, binary, and one-hot\n",
        "\n",
        "Here I present some examples of how this would  work.\n",
        "\n",
        "Sequence = GATTACA\n",
        "\n",
        "Ordinal: A=1, T=2, C=3, G=4, Sequence = [4,1,2,2,1,3,1]\n",
        "\n",
        "Binary: A = 00, T = 01, C= 10, G = 11, Sequance = [11000101001000]\n",
        "\n",
        "One-hot: A = [1,0,0,0], T = [0,1,0,0], C = [0,0,1,0], G = [0,0,0,1]\n",
        "\n",
        "Sequence = $\\begin{bmatrix} 0 & 0 & 0 & 1 \\\\ 1 & 0 & 0 & 0 \\\\ 0 & 1 & 0 & 0 \\\\ 0 & 1 & 0 & 0 \\\\ 1 & 0 & 0 &  0 \\\\ 0 & 0 & 1 & 0  \\\\ 1 & 0 & 0 & 0 \\end{bmatrix}$\n",
        "\n",
        "While the one-hot encoding adds a dimension to the data, it more accurately represents the difference between the different inputs. \n",
        "\n",
        "There are also some other base pairs other than ATCG which I chose to encode as proportional values according to their probability. See the guide [here][1] for a description of the bases\n",
        "\n",
        "\n",
        "[1]:https://en.wikipedia.org/wiki/Nucleic_acid_sequence"
      ]
    },
    {
      "cell_type": "code",
      "metadata": {
        "id": "1vfB82fGJvT2",
        "colab_type": "code",
        "colab": {}
      },
      "source": [
        "# dictionary for replacing the letters in the genome, https://en.wikipedia.org/wiki/Nucleic_acid_sequence\n",
        "genome_encode_dict = {'A':[1,0,0,0],'T':[0,1,0,0],'C':[0,0,1,0],'G':[0,0,0,1],'N':[0.25,0.25,0.25,0.25],\n",
        "                     'W':[0.5,0,0,0.5],'S':[0,0.5,0.5,0],'M':[0.5,0.5,0,0],'K':[0,0,0.5,0.5],'R':[0.5,0,0.5,0],\n",
        "                     'Y':[0,0.5,0,0.5],'B':[0,0.333,0.333,0.333],'D':[0.333,0,0.333,0.333],'H':[0.333,0.333,0,0.333],\n",
        "                     'V':[0.333,0.333,0.333,0],'Z':[0,0,0,0]}\n",
        "\n",
        "def encodeSequence(encode_dictionary, sequence):\n",
        "  return np.array([encode_dictionary[x] for x in sequence])"
      ],
      "execution_count": 0,
      "outputs": []
    },
    {
      "cell_type": "code",
      "metadata": {
        "id": "VCozXsl_COpf",
        "colab_type": "code",
        "colab": {}
      },
      "source": [
        "# Here is where we use the BioPython for fasta parsing\n",
        "\n",
        "from Bio import SeqIO\n",
        "def one_hot_encode_fasta(filename, encode_dict):\n",
        "  \"\"\"\n",
        "  input: filename of a fasta file \n",
        "  output: each of the sequences encoded using the provided dictionary\n",
        "          dimensions = Number of samples x length of sequences x D(encoded dimension)\n",
        "  \"\"\"\n",
        "  fasta_sequence = SeqIO.parse(open(filename), \"fasta\")\n",
        "  splice_array = []\n",
        "  for fasta in fasta_sequence:\n",
        "    name, sequence = fasta.id, str(fasta.seq)\n",
        "    # Here we call the encoding function\n",
        "    sequence = encodeSequence(encode_dict, sequence.upper())\n",
        "    splice_array.append(sequence)\n",
        "  \n",
        "  return np.asarray(splice_array)\n"
      ],
      "execution_count": 0,
      "outputs": []
    },
    {
      "cell_type": "code",
      "metadata": {
        "id": "_cqmZ-STDDpX",
        "colab_type": "code",
        "colab": {}
      },
      "source": [
        "x_data = one_hot_encode_fasta('UCIsequences.fa', genome_encode_dict)"
      ],
      "execution_count": 0,
      "outputs": []
    },
    {
      "cell_type": "code",
      "metadata": {
        "id": "PPOUZMYV0mHp",
        "colab_type": "code",
        "outputId": "77b22657-4972-4887-8510-77d32235b574",
        "colab": {
          "base_uri": "https://localhost:8080/",
          "height": 432
        }
      },
      "source": [
        "# visualize how these sequences are encoded now\n",
        "f, axes = plt.subplots(2, 2, figsize=(7, 7))\n",
        "\n",
        "sns.heatmap(x_data[0], cmap='gray', xticklabels=False, yticklabels=False, ax=axes[0, 0])\n",
        "sns.heatmap(x_data[1], cmap='gray', xticklabels=False, yticklabels=False, ax=axes[0, 1])\n",
        "sns.heatmap(x_data[2], cmap='gray', xticklabels=['A','T','C','G'], yticklabels=False, ax=axes[1, 0])\n",
        "sns.heatmap(x_data[3], cmap='gray', xticklabels=['A','T','C','G'], yticklabels=False, ax=axes[1, 1])\n",
        "plt.show()"
      ],
      "execution_count": 0,
      "outputs": [
        {
          "output_type": "display_data",
          "data": {
            "image/png": "[encoded data removed]",
            "text/plain": [
              "<Figure size 504x504 with 8 Axes>"
            ]
          },
          "metadata": {
            "tags": []
          }
        }
      ]
    },
    {
      "cell_type": "markdown",
      "metadata": {
        "id": "wDv1pE9Py-yv",
        "colab_type": "text"
      },
      "source": [
        "We have now successfully prepared our input data and label data. Keep the dimensions in mind when setting up the input and outputs to the classifier. "
      ]
    },
    {
      "cell_type": "code",
      "metadata": {
        "id": "okEZsa5jFk3t",
        "colab_type": "code",
        "outputId": "ad640ed7-65df-4ca5-bb68-c6195da58433",
        "colab": {
          "base_uri": "https://localhost:8080/",
          "height": 51
        }
      },
      "source": [
        "print('x_data shape: ', x_data.shape)\n",
        "print('y_data shape: ', y_data.shape)"
      ],
      "execution_count": 0,
      "outputs": [
        {
          "output_type": "stream",
          "text": [
            "x_data shape:  (3190, 60, 4)\n",
            "y_data shape:  (3190, 3)\n"
          ],
          "name": "stdout"
        }
      ]
    },
    {
      "cell_type": "markdown",
      "metadata": {
        "id": "7VKjwU8yJvVH",
        "colab_type": "text"
      },
      "source": [
        "__Setting up the model and splitting the data__\n",
        "\n",
        "Here we import the libraries we need. \n",
        "\n",
        "Probably don't need all of these and can be reduced or increased depending on your model."
      ]
    },
    {
      "cell_type": "code",
      "metadata": {
        "id": "1VDdazukJvVJ",
        "colab_type": "code",
        "outputId": "a2c5076a-8454-49bb-e666-a06a9a032713",
        "colab": {
          "base_uri": "https://localhost:8080/",
          "height": 34
        }
      },
      "source": [
        "from keras.models import Sequential\n",
        "from keras.layers import Dense, Dropout,Flatten\n",
        "from keras.layers import LSTM\n",
        "import keras\n",
        "\n",
        "\n",
        "from sklearn.model_selection import train_test_split\n",
        "\n",
        "from keras import optimizers\n",
        "import tensorflow as tf\n"
      ],
      "execution_count": 0,
      "outputs": [
        {
          "output_type": "stream",
          "text": [
            "Using TensorFlow backend.\n"
          ],
          "name": "stderr"
        }
      ]
    },
    {
      "cell_type": "code",
      "metadata": {
        "id": "-1S4G-51JvV5",
        "colab_type": "code",
        "outputId": "64879173-8a5c-48a9-a544-4197d70c5648",
        "colab": {
          "base_uri": "https://localhost:8080/",
          "height": 51
        }
      },
      "source": [
        "# split the data into training and test sets\n",
        "x_train, x_test, y_train, y_test = train_test_split(x_data, y_data, \n",
        "                                                    test_size=0.2, \n",
        "                                                    random_state=1)\n",
        "\n",
        "print('Number of each class in training: ', np.sum(y_train, axis=0))\n",
        "print('Number of each class in testing:  ', np.sum(y_test, axis=0))\n"
      ],
      "execution_count": 0,
      "outputs": [
        {
          "output_type": "stream",
          "text": [
            "Number of each class in training:  [ 610.  614. 1328.]\n",
            "Number of each class in testing:   [157. 154. 327.]\n"
          ],
          "name": "stdout"
        }
      ]
    },
    {
      "cell_type": "markdown",
      "metadata": {
        "id": "evmfdBrHzywI",
        "colab_type": "text"
      },
      "source": [
        " Note the slight class imbalance. There are as many sequences which are neither as there are sequences for EI and IE combined. This can affect how to interpret your accuracy and you may want to use a different metric. "
      ]
    },
    {
      "cell_type": "code",
      "metadata": {
        "id": "BVzedL3V0FQ9",
        "colab_type": "code",
        "colab": {}
      },
      "source": [
        "# for reproducible results seed random initializers\n",
        "from numpy.random import seed\n",
        "from tensorflow import set_random_seed\n",
        " \n",
        "# for reproducibility\n",
        "seed(1)\n",
        "set_random_seed(1)\n",
        "\n",
        "# resets the model to clear it to not build up previous layers\n",
        "keras.backend.clear_session()\n",
        "\n",
        "\n",
        "n_hidden = 16\n",
        "epochs = 20\n",
        "batch_size = 64\n",
        "\n",
        "# Here is where we set up the input to be 60 time steps and 4 inputs\n",
        "input_shape = (x_train.shape[1], x_train.shape[2])\n",
        "\n",
        "num_classes = 3\n",
        "\n",
        "model_RNN = Sequential()\n",
        "model_RNN.add(LSTM(n_hidden, activation='tanh', input_shape=input_shape,\n",
        "                   return_sequences=True))\n",
        "model_RNN.add(Flatten())\n",
        "model_RNN.add(Dropout(0.3)) # dropout to regularize and prevent overfitting\n",
        "\n",
        "# Here we add the final classification layer\n",
        "model_RNN.add(Dense(num_classes, activation='softmax'))\n",
        "\n",
        "\n",
        "optimizer = optimizers.Adam(lr=0.01)\n",
        "\n",
        "model_RNN.compile(loss='categorical_crossentropy', optimizer=optimizer,\n",
        "                          metrics=['accuracy'])\n",
        "\n",
        "history = model_RNN.fit(x_train, y_train, epochs=epochs, \n",
        "                    batch_size=batch_size, \n",
        "                    validation_data=(x_test, y_test), verbose=1, \n",
        "                    shuffle=True)\n"
      ],
      "execution_count": 0,
      "outputs": []
    },
    {
      "cell_type": "code",
      "metadata": {
        "id": "un3YXi1RkBMi",
        "colab_type": "code",
        "outputId": "77b3eedd-c775-447b-8e8b-ab3801047ae8",
        "colab": {
          "base_uri": "https://localhost:8080/",
          "height": 265
        }
      },
      "source": [
        "# plot history\n",
        "plt.plot(history.history['loss'], label='train loss')\n",
        "plt.plot(history.history['acc'], label='train accuracy')\n",
        "plt.plot(history.history['val_loss'], label='test loss')\n",
        "plt.plot(history.history['val_acc'], label='test accuracy')\n",
        "plt.legend()\n",
        "plt.show()"
      ],
      "execution_count": 0,
      "outputs": [
        {
          "output_type": "display_data",
          "data": {
            "image/png": "[encoded data removed]",
            "text/plain": [
              "<Figure size 432x288 with 1 Axes>"
            ]
          },
          "metadata": {
            "tags": []
          }
        }
      ]
    },
    {
      "cell_type": "markdown",
      "metadata": {
        "id": "3yYEauFu8cBr",
        "colab_type": "text"
      },
      "source": [
        "## Visualize which classes are causing errors\n",
        "Here we use a confusion matrix to see which class is giving the classifier the most trouble. "
      ]
    },
    {
      "cell_type": "code",
      "metadata": {
        "id": "1b6kA4GjO28l",
        "colab_type": "code",
        "outputId": "e03b5228-1fd9-4257-dea4-84d905a876c3",
        "colab": {
          "base_uri": "https://localhost:8080/",
          "height": 284
        }
      },
      "source": [
        "# plot a confusion matrix to show how things are being misclassified\n",
        "import sklearn.metrics as metrics\n",
        "import seaborn as sn\n",
        "%matplotlib inline\n",
        "\n",
        "y_pred = model_RNN.predict(x_test)\n",
        "# adjusts the one-hot encoding of the categories\n",
        "y_pred_labels = np.argmax(y_pred, axis=1)\n",
        "y_true = np.argmax(y_test, axis=1)\n",
        "confusion_matrix = metrics.confusion_matrix(y_true=y_true, y_pred=y_pred_labels)\n",
        "\n",
        "# divides the results by how many are in each class so it is 0 to 1\n",
        "normalized_confusion_matrix = confusion_matrix.transpose()/confusion_matrix.sum(axis=1)\n",
        "categories = ['EI','IE','N']\n",
        "\n",
        "# convert to dataframe to add indexes and to normalize\n",
        "df_cm = pd.DataFrame(normalized_confusion_matrix, index=categories, columns=categories)\n",
        "\n",
        "sn.set(font_scale=1.0)\n",
        "sn.heatmap(df_cm, annot=True, annot_kws={'size':16}).set_title('Normalized Prediction Confusion Matrix')\n",
        "plt.show()"
      ],
      "execution_count": 0,
      "outputs": [
        {
          "output_type": "display_data",
          "data": {
            "image/png": "[encoded data removed]",
            "text/plain": [
              "<Figure size 432x288 with 2 Axes>"
            ]
          },
          "metadata": {
            "tags": []
          }
        }
      ]
    },
    {
      "cell_type": "markdown",
      "metadata": {
        "id": "CD_NcwC48tOa",
        "colab_type": "text"
      },
      "source": [
        "## Enjoy exploring data\n",
        "\n",
        "Hopefull this gives you a useful starting spot for evaluating genomic data. There are many other techniques and methods which can be used to evaluate the data.\n",
        "\n",
        "You could try evaluating multiple base pairs at a time. You could try using a CNN network. Or you could try predicting the next base pair in a sequence instead of classification.  "
      ]
    },
    {
      "cell_type": "code",
      "metadata": {
        "id": "u-zZoH24Wn-i",
        "colab_type": "code",
        "colab": {}
      },
      "source": [
        ""
      ],
      "execution_count": 0,
      "outputs": []
    }
  ]
}