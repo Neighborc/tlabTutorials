{
  "nbformat": 4,
  "nbformat_minor": 0,
  "metadata": {
    "accelerator": "GPU",
    "colab": {
      "name": "Reservoir_MNIST_Tutorial.ipynb",
      "provenance": [],
      "collapsed_sections": [],
      "toc_visible": true,
      "include_colab_link": true
    },
    "kernelspec": {
      "name": "python3",
      "display_name": "Python 3"
    },
    "language_info": {
      "codemirror_mode": {
        "name": "ipython",
        "version": 3
      },
      "file_extension": ".py",
      "mimetype": "text/x-python",
      "name": "python",
      "nbconvert_exporter": "python",
      "pygments_lexer": "ipython3",
      "version": "3.7.3"
    }
  },
  "cells": [
    {
      "cell_type": "markdown",
      "metadata": {
        "id": "view-in-github",
        "colab_type": "text"
      },
      "source": [
        "<a href=\"https://colab.research.google.com/github/Neighborc/tlabTutorials/blob/master/Reservoir_MNIST_Tutorial.ipynb\" target=\"_parent\"><img src=\"https://colab.research.google.com/assets/colab-badge.svg\" alt=\"Open In Colab\"/></a>"
      ]
    },
    {
      "cell_type": "code",
      "metadata": {
        "colab_type": "code",
        "id": "sp1UmWDGJvTl",
        "colab": {}
      },
      "source": [
        "import numpy as np\n",
        "import pandas as pd\n",
        "import matplotlib.pyplot as plt\n",
        "%matplotlib inline\n",
        "import seaborn as sns\n",
        "\n",
        "import time\n",
        "import os"
      ],
      "execution_count": 0,
      "outputs": []
    },
    {
      "cell_type": "markdown",
      "metadata": {
        "id": "-B9S1Sp7OclP",
        "colab_type": "text"
      },
      "source": [
        "## Reservoir\n",
        "Here I give a walkthrough of how to use PyTorch for constructing a reservoir, essentially a randomized recurrent neural network, for classification. A more in-depth implementation which could be good for reference is [EchoTorch](https://github.com/nschaetti/EchoTorch)\n",
        "\n",
        "The main steps I use are to initialize a RNN with standard nodes, replace the weight matrix only the readout layer is trained. \n",
        "\n",
        "There are many other parameters to tune."
      ]
    },
    {
      "cell_type": "code",
      "metadata": {
        "colab_type": "code",
        "id": "AoAJfbfQaTgV",
        "colab": {}
      },
      "source": [
        "import torch\n",
        "from torch.utils.data import Dataset, DataLoader\n",
        "import torch.utils.data as utils\n",
        "\n",
        "\n",
        "# set random seeds for reproducibility\n",
        "torch.manual_seed(0)\n",
        "np.random.seed(0)"
      ],
      "execution_count": 0,
      "outputs": []
    },
    {
      "cell_type": "markdown",
      "metadata": {
        "colab_type": "text",
        "id": "_HVHg0tlaWyg"
      },
      "source": [
        "First in order to use PyTorch effectively we want to it up to use the availabe GPU device"
      ]
    },
    {
      "cell_type": "code",
      "metadata": {
        "colab_type": "code",
        "id": "xaIk5KTyaXZ0",
        "outputId": "3c29ee67-0a3b-4025-c15e-1b6a8e6ee2a1",
        "colab": {
          "base_uri": "https://localhost:8080/",
          "height": 35
        }
      },
      "source": [
        "# Setup the ability to run on a GPU\n",
        "device = torch.device(\"cuda:0\" if torch.cuda.is_available() else \"cpu\")\n",
        "# Assuming that we are on a CUDA machine, this should print a CUDA device:\n",
        "print(device)"
      ],
      "execution_count": 3,
      "outputs": [
        {
          "output_type": "stream",
          "text": [
            "cuda:0\n"
          ],
          "name": "stdout"
        }
      ]
    },
    {
      "cell_type": "markdown",
      "metadata": {
        "colab_type": "text",
        "id": "xn3jGPqTa5Qo"
      },
      "source": [
        "## Constructing the reservoir \n",
        "Here we create a recurrent neural network, set its internal weights according to the Echo State Property and then freeze all the weights except the output. \n",
        "Additionally aother simple way of doing this is by removing the final layer and running the data through the reservoir and then training a classifier on these node output values. "
      ]
    },
    {
      "cell_type": "code",
      "metadata": {
        "colab_type": "code",
        "id": "dTLyeuYcaX0X",
        "colab": {}
      },
      "source": [
        "import torch.nn as nn\n",
        "from torch.autograd import Variable\n",
        "from torch.nn import functional as F\n",
        "import torch.optim as optim\n",
        "\n",
        "class RNN(nn.Module):\n",
        "    def __init__(self, input_size, n_hidden, num_layers, num_classes, sequence_length, dropout=0, return_sequence=False):\n",
        "        super(RNN, self).__init__()\n",
        "        self.n_hidden = n_hidden\n",
        "        self.sequence_length = sequence_length\n",
        "        self.num_layers = num_layers\n",
        "        self.return_sequence = return_sequence\n",
        "          \n",
        "        self.hidden = nn.RNN(input_size, n_hidden, num_layers, batch_first=True, bias=False)\n",
        "        self.drop_layer = nn.Dropout(p=dropout)\n",
        "        if return_sequence:\n",
        "          self.fc = nn.Linear(n_hidden*sequence_length, num_classes)\n",
        "        else:\n",
        "          self.fc = nn.Linear(n_hidden, num_classes)\n",
        "    def forward(self, x):\n",
        "        # Set initial hidden and cell states \n",
        "        h0 = torch.zeros(self.num_layers, x.size(0), self.n_hidden).to(device) \n",
        "        \n",
        "        # Forward propagate\n",
        "        out, h_n = self.hidden(x, h0)  # out: tensor of shape (batch_size, seq_length, n_hidden)\n",
        "        if self.return_sequence:\n",
        "          out = out.contiguous().view(-1,self.n_hidden*self.sequence_length)\n",
        "          out = self.fc(out)\n",
        "        else:\n",
        "          out = self.fc(out[:,-1,:])\n",
        "        return out\n",
        "\n",
        "def create_reservoir_matrix(size=(10,10), spectral_radius=0.9, sparsity=0.5):\n",
        "    \"\"\" Creates the W_res of the ESN which has the ESP\n",
        "    inputs: \n",
        "    size: square matrix representing the size of teh reservoir connections\n",
        "    spectral_radius: largest eigenvalue in reservoir matrix should be <1\n",
        "    sparsity: connectivity of matrix, 1.0 indicates full connection \n",
        "    \"\"\"\n",
        "    # generate uniformly random from U[0,1] *2 -1 makes it U[-1,1]\n",
        "    W_res = torch.rand(size)*2-1\n",
        "\n",
        "    # create a sparse mask array then multiply reservoir weights by sparse mask\n",
        "    # sparse mask is done by generating uniform[0,1] then setting True <=sparsity\n",
        "    W_res = W_res*(torch.rand_like(W_res) <= sparsity).type(W_res.dtype)\n",
        "    \n",
        "    # scale the matrix to have the desired spectral radius\n",
        "    W_res = W_res*spectral_radius/(np.max(np.abs(np.linalg.eigvals(W_res))))\n",
        "\n",
        "    return W_res\n",
        "\n",
        "\n",
        "from numpy import linalg as LA\n",
        "from scipy.sparse import random as sparserand\n",
        "def create_sparse_connection_matrix(size=(10,10),spectral_radius=0.9, sparsity=0.5):\n",
        "  \"\"\" Creates a sparse matrix using a different library which is not probabilistic\n",
        "  and so should have a better consistancy for small networks \n",
        "  returns a numpy array\"\"\"\n",
        "  matrix = sparserand(size[0],size[1], density=sparsity)\n",
        "  matrix = matrix.A*2-1 # shift from U[0,1] to U[-1,1]\n",
        "\n",
        "  max_eigval = max(abs(LA.eigvals(matrix.A)))\n",
        "  if max_eigval == 0:\n",
        "    # checks for an entirely sparse matrix\n",
        "    return matrix.A\n",
        "\n",
        "  else:\n",
        "    matrix = spectral_radius*matrix.A/max_eigval\n",
        "    return matrix\n"
      ],
      "execution_count": 0,
      "outputs": []
    },
    {
      "cell_type": "code",
      "metadata": {
        "id": "RGs9Y3uWnY28",
        "colab_type": "code",
        "colab": {}
      },
      "source": [
        ""
      ],
      "execution_count": 0,
      "outputs": []
    },
    {
      "cell_type": "markdown",
      "metadata": {
        "id": "axtSmtH8piXg",
        "colab_type": "text"
      },
      "source": [
        "### MNIST Example\n",
        "\n",
        "Load in the MNIST data, transform it, and build some batched dataloaders"
      ]
    },
    {
      "cell_type": "code",
      "metadata": {
        "id": "cnzbsEo3piXh",
        "colab_type": "code",
        "colab": {}
      },
      "source": [
        "import torch\n",
        "import torch.nn as nn\n",
        "import torch.optim as optim\n",
        "import torchvision.datasets as dsets\n",
        "import torchvision.transforms as transforms\n"
      ],
      "execution_count": 0,
      "outputs": []
    },
    {
      "cell_type": "code",
      "metadata": {
        "id": "Z8yeE9xJpiXk",
        "colab_type": "code",
        "colab": {}
      },
      "source": [
        "# set random seeds for reproducibility\n",
        "torch.manual_seed(0)\n",
        "np.random.seed(0)\n",
        "\n",
        "# Hyper Parameters \n",
        "input_size = (28, 28)\n",
        "num_classes = 10\n",
        "num_epochs = 10\n",
        "batch_size_train = 64\n",
        "batch_size_test = 1024\n",
        "learning_rate = 1e-3"
      ],
      "execution_count": 0,
      "outputs": []
    },
    {
      "cell_type": "code",
      "metadata": {
        "id": "eixF46gUpiXn",
        "colab_type": "code",
        "outputId": "d50d0451-8066-485e-f827-18babfbcd758",
        "colab": {
          "base_uri": "https://localhost:8080/",
          "height": 269
        }
      },
      "source": [
        "train_dataset = dsets.MNIST(root='./data', train=True, \n",
        "                            transform=transforms.Compose([\n",
        "                            transforms.Resize(input_size),\n",
        "                            transforms.ToTensor(),\n",
        "                            transforms.Normalize((0.1307,), (0.3081,))]),\n",
        "                            download=True)\n",
        "test_dataset = dsets.MNIST('./data', train=False,transform=transforms.Compose([\n",
        "                            transforms.Resize(input_size),\n",
        "                            transforms.ToTensor(),\n",
        "                            transforms.Normalize((0.1307,), (0.3081,))]), download=True)"
      ],
      "execution_count": 11,
      "outputs": [
        {
          "output_type": "stream",
          "text": [
            "\r0it [00:00, ?it/s]"
          ],
          "name": "stderr"
        },
        {
          "output_type": "stream",
          "text": [
            "Downloading http://yann.lecun.com/exdb/mnist/train-images-idx3-ubyte.gz to ./data/MNIST/raw/train-images-idx3-ubyte.gz\n"
          ],
          "name": "stdout"
        },
        {
          "output_type": "stream",
          "text": [
            "9920512it [00:01, 8520095.84it/s]                            \n"
          ],
          "name": "stderr"
        },
        {
          "output_type": "stream",
          "text": [
            "Extracting ./data/MNIST/raw/train-images-idx3-ubyte.gz to ./data/MNIST/raw\n"
          ],
          "name": "stdout"
        },
        {
          "output_type": "stream",
          "text": [
            "  0%|          | 0/28881 [00:00<?, ?it/s]"
          ],
          "name": "stderr"
        },
        {
          "output_type": "stream",
          "text": [
            "Downloading http://yann.lecun.com/exdb/mnist/train-labels-idx1-ubyte.gz to ./data/MNIST/raw/train-labels-idx1-ubyte.gz\n"
          ],
          "name": "stdout"
        },
        {
          "output_type": "stream",
          "text": [
            "32768it [00:00, 128866.50it/s]           \n",
            "  0%|          | 0/1648877 [00:00<?, ?it/s]"
          ],
          "name": "stderr"
        },
        {
          "output_type": "stream",
          "text": [
            "Extracting ./data/MNIST/raw/train-labels-idx1-ubyte.gz to ./data/MNIST/raw\n",
            "Downloading http://yann.lecun.com/exdb/mnist/t10k-images-idx3-ubyte.gz to ./data/MNIST/raw/t10k-images-idx3-ubyte.gz\n"
          ],
          "name": "stdout"
        },
        {
          "output_type": "stream",
          "text": [
            "1654784it [00:00, 2014664.75it/s]                            \n",
            "0it [00:00, ?it/s]"
          ],
          "name": "stderr"
        },
        {
          "output_type": "stream",
          "text": [
            "Extracting ./data/MNIST/raw/t10k-images-idx3-ubyte.gz to ./data/MNIST/raw\n",
            "Downloading http://yann.lecun.com/exdb/mnist/t10k-labels-idx1-ubyte.gz to ./data/MNIST/raw/t10k-labels-idx1-ubyte.gz\n"
          ],
          "name": "stdout"
        },
        {
          "output_type": "stream",
          "text": [
            "8192it [00:00, 49779.77it/s]            \n"
          ],
          "name": "stderr"
        },
        {
          "output_type": "stream",
          "text": [
            "Extracting ./data/MNIST/raw/t10k-labels-idx1-ubyte.gz to ./data/MNIST/raw\n",
            "Processing...\n",
            "Done!\n"
          ],
          "name": "stdout"
        }
      ]
    },
    {
      "cell_type": "code",
      "metadata": {
        "id": "SF1n5R8mpiXp",
        "colab_type": "code",
        "outputId": "9ee83754-2c64-43e5-c51a-d833c109e805",
        "colab": {
          "base_uri": "https://localhost:8080/",
          "height": 35
        }
      },
      "source": [
        "# check the imported dataset shape\n",
        "print(train_dataset[0][0].shape)"
      ],
      "execution_count": 12,
      "outputs": [
        {
          "output_type": "stream",
          "text": [
            "torch.Size([1, 28, 28])\n"
          ],
          "name": "stdout"
        }
      ]
    },
    {
      "cell_type": "code",
      "metadata": {
        "id": "udPohKZzpiXs",
        "colab_type": "code",
        "colab": {}
      },
      "source": [
        "# Dataset loaders (handle mini-batching of data)\n",
        "train_loader = torch.utils.data.DataLoader(dataset=train_dataset, batch_size=batch_size_train, shuffle=True) \n",
        "test_loader = torch.utils.data.DataLoader(dataset=test_dataset, batch_size=batch_size_test, shuffle=False)"
      ],
      "execution_count": 0,
      "outputs": []
    },
    {
      "cell_type": "code",
      "metadata": {
        "id": "--JjV7hGpiXw",
        "colab_type": "code",
        "colab": {}
      },
      "source": [
        "def epoch_accuracy(loader, total_size, split='train'):\n",
        "    \"\"\"Measure the accuracy for the entire dataset\"\"\" \n",
        "    \n",
        "    #set PyTorch model in eval mode for faster inference, no grads passed\n",
        "    model.eval()\n",
        "\n",
        "    correct = 0\n",
        "    total = 0\n",
        "    for sequences, labels in loader:\n",
        "        sequences = sequences.view(-1,28,28)\n",
        "        sequences = sequences.to(device)\n",
        "        labels = labels.to(device)\n",
        "        outputs = model(sequences) \n",
        "        _, predicted = torch.max(outputs.data, 1) \n",
        "        total += labels.size(0) \n",
        "        correct += (predicted == labels).sum()\n",
        "\n",
        "    print(f'Accuracy of the model on the {total_size} {split} sequences: {float(correct) / total:3.1%}')\n",
        "    \n",
        "    return float(correct) / total    "
      ],
      "execution_count": 0,
      "outputs": []
    },
    {
      "cell_type": "markdown",
      "metadata": {
        "id": "m29357lWq_CY",
        "colab_type": "text"
      },
      "source": [
        "At this point we can go through the steps to make the Echo State Network. \n",
        "1. Initialize an RNN\n",
        "2. Create the $W_{res}$ we want for our ESN in the shape of the RNN\n",
        "3. Replace the hidden weights with $W_{res}$\n",
        "4. Set the requires_grad to False for the hidden layer, this freezes the layer weights in place and doesn't pass any gradient to the layers before this one as well\n",
        "\n",
        "You could make the class automatically construct the reservoir as well if you like, using potentially a classmethod"
      ]
    },
    {
      "cell_type": "code",
      "metadata": {
        "id": "4YbTPwlwpiX1",
        "colab_type": "code",
        "colab": {}
      },
      "source": [
        "# input parameters\n",
        "sequence_length = 28\n",
        "input_size = 28\n",
        "num_classes = 10\n",
        "\n",
        "# Hyper-parameters\n",
        "n_hidden = 50\n",
        "num_layers = 1 # only works with 1 for now \n",
        "batch_size = batch_size_train\n",
        "learning_rate = 0.001\n",
        "dropout = 0.05\n",
        "\n",
        "# create the internal weight matrix\n",
        "W_res = create_reservoir_matrix(size=(n_hidden, n_hidden), spectral_radius=0.9, sparsity=1.0)\n",
        "\n",
        "model = RNN(input_size, n_hidden, num_layers, num_classes, \n",
        "                  sequence_length=sequence_length, dropout=dropout, return_sequence=True)\n",
        "\n",
        "# set the internal hidden weight matrix as the reservoir values \n",
        "model.hidden.weight_hh_l0 = nn.Parameter(W_res, requires_grad=False)\n",
        "input_scale = 0.5\n",
        "model.hidden.weight_ih_l0 = nn.Parameter((torch.rand((n_hidden,input_size))*2-1)*input_scale, requires_grad=False)\n",
        "\n",
        "# move to the GPU\n",
        "model.to(device)\n",
        "\n",
        "# Freeze all hidden layers so no gradient update occurs\n",
        "for param in model.hidden.parameters():\n",
        "    param.requires_grad = False\n",
        "\n",
        "# only need the gradient for the fully connected layer, weight_decay adds l2 norm\n",
        "optimizer = torch.optim.Adam(model.fc.parameters(), lr=learning_rate, weight_decay=0)\n",
        "\n",
        "# CrossEntropyLoss takes care of the Softmax evaluation \n",
        "criterion = nn.CrossEntropyLoss()"
      ],
      "execution_count": 0,
      "outputs": []
    },
    {
      "cell_type": "markdown",
      "metadata": {
        "id": "cmAoTQ0PpiXX",
        "colab_type": "text"
      },
      "source": [
        "### Train the model \n",
        "Here we train the model and keep track of the train and test losses. Note if you rerun this cell the model will continue to train from it's previous state. "
      ]
    },
    {
      "cell_type": "markdown",
      "metadata": {
        "id": "S9nha07xpiX3",
        "colab_type": "text"
      },
      "source": [
        "Note this can take around 5 minutes on a CPU, much faster if you run it on a GPU."
      ]
    },
    {
      "cell_type": "code",
      "metadata": {
        "id": "70iJntlhpiX4",
        "colab_type": "code",
        "colab": {
          "base_uri": "https://localhost:8080/",
          "height": 1000
        },
        "outputId": "8017e95d-99fa-460e-8197-640d292b1666"
      },
      "source": [
        "train_acc = []\n",
        "test_acc = []\n",
        "\n",
        "num_epochs = 15\n",
        "for epoch in range(num_epochs):\n",
        "    for i, (sequences, labels) in enumerate(train_loader):\n",
        "        # reshape to (batch_size, time_step, input size)\n",
        "        sequences = sequences.view(-1,28,28)\n",
        "        sequences = sequences.to(device)\n",
        "        labels = labels.to(device)\n",
        "        \n",
        "        # Forward pass\n",
        "        optimizer.zero_grad() \n",
        "        outputs = model(sequences) \n",
        "        loss = criterion(outputs, labels)\n",
        "        \n",
        "        # Backward pass\n",
        "        loss.backward()\n",
        "        \n",
        "        # Optimize\n",
        "        optimizer.step()\n",
        "        \n",
        "        # print out your accuracy along the way\n",
        "        if (i + 1) % 70 == 0:\n",
        "            print(f'Epoch: [{epoch+1}/{num_epochs}], Step: [{i+1}/{len(train_dataset)//batch_size}], Loss: {loss.item():3}') \n",
        "    \n",
        "    \n",
        "    # records accuracy on first epoch and on the 5th ones after that\n",
        "    if epoch==0 or (epoch+1)%5==0:\n",
        "        test_acc_epoch = epoch_accuracy(test_loader, len(test_dataset), 'test')\n",
        "        test_acc.append(test_acc_epoch)\n",
        "        train_acc_epoch = epoch_accuracy(train_loader, len(train_dataset), 'train')\n",
        "        train_acc.append(train_acc_epoch)\n",
        "\n",
        "plt.plot(train_acc)\n",
        "plt.plot(test_acc)\n",
        "plt.legend(['train_acc','test_acc'])"
      ],
      "execution_count": 18,
      "outputs": [
        {
          "output_type": "stream",
          "text": [
            "Epoch: [1/15], Step: [70/937], Loss: 0.38344958424568176\n",
            "Epoch: [1/15], Step: [140/937], Loss: 0.4095509648323059\n",
            "Epoch: [1/15], Step: [210/937], Loss: 0.5083675384521484\n",
            "Epoch: [1/15], Step: [280/937], Loss: 0.22053581476211548\n",
            "Epoch: [1/15], Step: [350/937], Loss: 0.3118206262588501\n",
            "Epoch: [1/15], Step: [420/937], Loss: 0.337104856967926\n",
            "Epoch: [1/15], Step: [490/937], Loss: 0.29958271980285645\n",
            "Epoch: [1/15], Step: [560/937], Loss: 0.28666114807128906\n",
            "Epoch: [1/15], Step: [630/937], Loss: 0.14635005593299866\n",
            "Epoch: [1/15], Step: [700/937], Loss: 0.11091510206460953\n",
            "Epoch: [1/15], Step: [770/937], Loss: 0.31741881370544434\n",
            "Epoch: [1/15], Step: [840/937], Loss: 0.16884376108646393\n",
            "Epoch: [1/15], Step: [910/937], Loss: 0.24079939723014832\n",
            "Accuracy of the model on the 10000 test sequences: 93.1%\n",
            "Accuracy of the model on the 60000 train sequences: 93.2%\n",
            "Epoch: [2/15], Step: [70/937], Loss: 0.3867510259151459\n",
            "Epoch: [2/15], Step: [140/937], Loss: 0.3512437045574188\n",
            "Epoch: [2/15], Step: [210/937], Loss: 0.3881421685218811\n",
            "Epoch: [2/15], Step: [280/937], Loss: 0.2151952087879181\n",
            "Epoch: [2/15], Step: [350/937], Loss: 0.45397239923477173\n",
            "Epoch: [2/15], Step: [420/937], Loss: 0.18265725672245026\n",
            "Epoch: [2/15], Step: [490/937], Loss: 0.15772977471351624\n",
            "Epoch: [2/15], Step: [560/937], Loss: 0.35681912302970886\n",
            "Epoch: [2/15], Step: [630/937], Loss: 0.32882100343704224\n",
            "Epoch: [2/15], Step: [700/937], Loss: 0.14790809154510498\n",
            "Epoch: [2/15], Step: [770/937], Loss: 0.334916889667511\n",
            "Epoch: [2/15], Step: [840/937], Loss: 0.19970837235450745\n",
            "Epoch: [2/15], Step: [910/937], Loss: 0.2910795509815216\n",
            "Epoch: [3/15], Step: [70/937], Loss: 0.19001030921936035\n",
            "Epoch: [3/15], Step: [140/937], Loss: 0.10753233730792999\n",
            "Epoch: [3/15], Step: [210/937], Loss: 0.19708378612995148\n",
            "Epoch: [3/15], Step: [280/937], Loss: 0.1377207338809967\n",
            "Epoch: [3/15], Step: [350/937], Loss: 0.2574315667152405\n",
            "Epoch: [3/15], Step: [420/937], Loss: 0.20170801877975464\n",
            "Epoch: [3/15], Step: [490/937], Loss: 0.18318845331668854\n",
            "Epoch: [3/15], Step: [560/937], Loss: 0.23052817583084106\n",
            "Epoch: [3/15], Step: [630/937], Loss: 0.2786712050437927\n",
            "Epoch: [3/15], Step: [700/937], Loss: 0.25259748101234436\n",
            "Epoch: [3/15], Step: [770/937], Loss: 0.18786481022834778\n",
            "Epoch: [3/15], Step: [840/937], Loss: 0.16077813506126404\n",
            "Epoch: [3/15], Step: [910/937], Loss: 0.1202581599354744\n",
            "Epoch: [4/15], Step: [70/937], Loss: 0.18528150022029877\n",
            "Epoch: [4/15], Step: [140/937], Loss: 0.25136157870292664\n",
            "Epoch: [4/15], Step: [210/937], Loss: 0.20010317862033844\n",
            "Epoch: [4/15], Step: [280/937], Loss: 0.2638649344444275\n",
            "Epoch: [4/15], Step: [350/937], Loss: 0.20592395961284637\n",
            "Epoch: [4/15], Step: [420/937], Loss: 0.13156157732009888\n",
            "Epoch: [4/15], Step: [490/937], Loss: 0.08540557324886322\n",
            "Epoch: [4/15], Step: [560/937], Loss: 0.2141195684671402\n",
            "Epoch: [4/15], Step: [630/937], Loss: 0.43354809284210205\n",
            "Epoch: [4/15], Step: [700/937], Loss: 0.2447313517332077\n",
            "Epoch: [4/15], Step: [770/937], Loss: 0.25616100430488586\n",
            "Epoch: [4/15], Step: [840/937], Loss: 0.22100193798542023\n",
            "Epoch: [4/15], Step: [910/937], Loss: 0.19730675220489502\n",
            "Epoch: [5/15], Step: [70/937], Loss: 0.09074743092060089\n",
            "Epoch: [5/15], Step: [140/937], Loss: 0.06012926995754242\n",
            "Epoch: [5/15], Step: [210/937], Loss: 0.1685093343257904\n",
            "Epoch: [5/15], Step: [280/937], Loss: 0.14136993885040283\n",
            "Epoch: [5/15], Step: [350/937], Loss: 0.24623069167137146\n",
            "Epoch: [5/15], Step: [420/937], Loss: 0.13454437255859375\n",
            "Epoch: [5/15], Step: [490/937], Loss: 0.401907742023468\n",
            "Epoch: [5/15], Step: [560/937], Loss: 0.09244973212480545\n",
            "Epoch: [5/15], Step: [630/937], Loss: 0.0849180668592453\n",
            "Epoch: [5/15], Step: [700/937], Loss: 0.10981258749961853\n",
            "Epoch: [5/15], Step: [770/937], Loss: 0.24807108938694\n",
            "Epoch: [5/15], Step: [840/937], Loss: 0.18438106775283813\n",
            "Epoch: [5/15], Step: [910/937], Loss: 0.31628936529159546\n",
            "Accuracy of the model on the 10000 test sequences: 94.5%\n",
            "Accuracy of the model on the 60000 train sequences: 95.4%\n",
            "Epoch: [6/15], Step: [70/937], Loss: 0.3308540880680084\n",
            "Epoch: [6/15], Step: [140/937], Loss: 0.12322970479726791\n",
            "Epoch: [6/15], Step: [210/937], Loss: 0.22688452899456024\n",
            "Epoch: [6/15], Step: [280/937], Loss: 0.20851948857307434\n",
            "Epoch: [6/15], Step: [350/937], Loss: 0.21277202665805817\n",
            "Epoch: [6/15], Step: [420/937], Loss: 0.24989984929561615\n",
            "Epoch: [6/15], Step: [490/937], Loss: 0.14811298251152039\n",
            "Epoch: [6/15], Step: [560/937], Loss: 0.12249504774808884\n",
            "Epoch: [6/15], Step: [630/937], Loss: 0.12243730574846268\n",
            "Epoch: [6/15], Step: [700/937], Loss: 0.11403703689575195\n",
            "Epoch: [6/15], Step: [770/937], Loss: 0.0786563903093338\n",
            "Epoch: [6/15], Step: [840/937], Loss: 0.24228984117507935\n",
            "Epoch: [6/15], Step: [910/937], Loss: 0.1930255889892578\n",
            "Epoch: [7/15], Step: [70/937], Loss: 0.23030290007591248\n",
            "Epoch: [7/15], Step: [140/937], Loss: 0.07467712461948395\n",
            "Epoch: [7/15], Step: [210/937], Loss: 0.0938434824347496\n",
            "Epoch: [7/15], Step: [280/937], Loss: 0.13578253984451294\n",
            "Epoch: [7/15], Step: [350/937], Loss: 0.112298883497715\n",
            "Epoch: [7/15], Step: [420/937], Loss: 0.08253566920757294\n",
            "Epoch: [7/15], Step: [490/937], Loss: 0.13442134857177734\n",
            "Epoch: [7/15], Step: [560/937], Loss: 0.28606587648391724\n",
            "Epoch: [7/15], Step: [630/937], Loss: 0.1702963411808014\n",
            "Epoch: [7/15], Step: [700/937], Loss: 0.05147577077150345\n",
            "Epoch: [7/15], Step: [770/937], Loss: 0.23105423152446747\n",
            "Epoch: [7/15], Step: [840/937], Loss: 0.13518892228603363\n",
            "Epoch: [7/15], Step: [910/937], Loss: 0.17465829849243164\n",
            "Epoch: [8/15], Step: [70/937], Loss: 0.14025261998176575\n",
            "Epoch: [8/15], Step: [140/937], Loss: 0.06877100467681885\n",
            "Epoch: [8/15], Step: [210/937], Loss: 0.15114183723926544\n",
            "Epoch: [8/15], Step: [280/937], Loss: 0.16616080701351166\n",
            "Epoch: [8/15], Step: [350/937], Loss: 0.19637802243232727\n",
            "Epoch: [8/15], Step: [420/937], Loss: 0.191216841340065\n",
            "Epoch: [8/15], Step: [490/937], Loss: 0.1803550273180008\n",
            "Epoch: [8/15], Step: [560/937], Loss: 0.1600339710712433\n",
            "Epoch: [8/15], Step: [630/937], Loss: 0.1341754049062729\n",
            "Epoch: [8/15], Step: [700/937], Loss: 0.1376037299633026\n",
            "Epoch: [8/15], Step: [770/937], Loss: 0.15770238637924194\n",
            "Epoch: [8/15], Step: [840/937], Loss: 0.03270741552114487\n",
            "Epoch: [8/15], Step: [910/937], Loss: 0.11000844836235046\n",
            "Epoch: [9/15], Step: [70/937], Loss: 0.06867703050374985\n",
            "Epoch: [9/15], Step: [140/937], Loss: 0.14070378243923187\n",
            "Epoch: [9/15], Step: [210/937], Loss: 0.06015382707118988\n",
            "Epoch: [9/15], Step: [280/937], Loss: 0.14467258751392365\n",
            "Epoch: [9/15], Step: [350/937], Loss: 0.1556127518415451\n",
            "Epoch: [9/15], Step: [420/937], Loss: 0.17540213465690613\n",
            "Epoch: [9/15], Step: [490/937], Loss: 0.10125361382961273\n",
            "Epoch: [9/15], Step: [560/937], Loss: 0.15735261142253876\n",
            "Epoch: [9/15], Step: [630/937], Loss: 0.05016528069972992\n",
            "Epoch: [9/15], Step: [700/937], Loss: 0.1489505022764206\n",
            "Epoch: [9/15], Step: [770/937], Loss: 0.06303450465202332\n",
            "Epoch: [9/15], Step: [840/937], Loss: 0.15141816437244415\n",
            "Epoch: [9/15], Step: [910/937], Loss: 0.07729318737983704\n",
            "Epoch: [10/15], Step: [70/937], Loss: 0.10234266519546509\n",
            "Epoch: [10/15], Step: [140/937], Loss: 0.08632685244083405\n",
            "Epoch: [10/15], Step: [210/937], Loss: 0.1693168580532074\n",
            "Epoch: [10/15], Step: [280/937], Loss: 0.10576943308115005\n",
            "Epoch: [10/15], Step: [350/937], Loss: 0.2068658322095871\n",
            "Epoch: [10/15], Step: [420/937], Loss: 0.2535654604434967\n",
            "Epoch: [10/15], Step: [490/937], Loss: 0.11850836127996445\n",
            "Epoch: [10/15], Step: [560/937], Loss: 0.3150460124015808\n",
            "Epoch: [10/15], Step: [630/937], Loss: 0.06023988872766495\n",
            "Epoch: [10/15], Step: [700/937], Loss: 0.05798352509737015\n",
            "Epoch: [10/15], Step: [770/937], Loss: 0.17516711354255676\n",
            "Epoch: [10/15], Step: [840/937], Loss: 0.13039246201515198\n",
            "Epoch: [10/15], Step: [910/937], Loss: 0.05910512059926987\n",
            "Accuracy of the model on the 10000 test sequences: 94.4%\n",
            "Accuracy of the model on the 60000 train sequences: 95.9%\n",
            "Epoch: [11/15], Step: [70/937], Loss: 0.06535230576992035\n",
            "Epoch: [11/15], Step: [140/937], Loss: 0.15629678964614868\n",
            "Epoch: [11/15], Step: [210/937], Loss: 0.1459541767835617\n",
            "Epoch: [11/15], Step: [280/937], Loss: 0.1437114179134369\n",
            "Epoch: [11/15], Step: [350/937], Loss: 0.09274527430534363\n",
            "Epoch: [11/15], Step: [420/937], Loss: 0.09322918951511383\n",
            "Epoch: [11/15], Step: [490/937], Loss: 0.08866243809461594\n",
            "Epoch: [11/15], Step: [560/937], Loss: 0.15715055167675018\n",
            "Epoch: [11/15], Step: [630/937], Loss: 0.3316181004047394\n",
            "Epoch: [11/15], Step: [700/937], Loss: 0.10425220429897308\n",
            "Epoch: [11/15], Step: [770/937], Loss: 0.21749980747699738\n",
            "Epoch: [11/15], Step: [840/937], Loss: 0.05584806203842163\n",
            "Epoch: [11/15], Step: [910/937], Loss: 0.09583988040685654\n",
            "Epoch: [12/15], Step: [70/937], Loss: 0.04222031682729721\n",
            "Epoch: [12/15], Step: [140/937], Loss: 0.059741176664829254\n",
            "Epoch: [12/15], Step: [210/937], Loss: 0.19743657112121582\n",
            "Epoch: [12/15], Step: [280/937], Loss: 0.07713678479194641\n",
            "Epoch: [12/15], Step: [350/937], Loss: 0.06546644866466522\n",
            "Epoch: [12/15], Step: [420/937], Loss: 0.2165786623954773\n",
            "Epoch: [12/15], Step: [490/937], Loss: 0.1645173728466034\n",
            "Epoch: [12/15], Step: [560/937], Loss: 0.20980516076087952\n",
            "Epoch: [12/15], Step: [630/937], Loss: 0.3031380772590637\n",
            "Epoch: [12/15], Step: [700/937], Loss: 0.09185728430747986\n",
            "Epoch: [12/15], Step: [770/937], Loss: 0.058217741549015045\n",
            "Epoch: [12/15], Step: [840/937], Loss: 0.18174399435520172\n",
            "Epoch: [12/15], Step: [910/937], Loss: 0.15099938213825226\n",
            "Epoch: [13/15], Step: [70/937], Loss: 0.07492057979106903\n",
            "Epoch: [13/15], Step: [140/937], Loss: 0.12753987312316895\n",
            "Epoch: [13/15], Step: [210/937], Loss: 0.10977168381214142\n",
            "Epoch: [13/15], Step: [280/937], Loss: 0.0963953360915184\n",
            "Epoch: [13/15], Step: [350/937], Loss: 0.18128131330013275\n",
            "Epoch: [13/15], Step: [420/937], Loss: 0.1030251681804657\n",
            "Epoch: [13/15], Step: [490/937], Loss: 0.10845999419689178\n",
            "Epoch: [13/15], Step: [560/937], Loss: 0.2271314114332199\n",
            "Epoch: [13/15], Step: [630/937], Loss: 0.06046414002776146\n",
            "Epoch: [13/15], Step: [700/937], Loss: 0.019638188183307648\n",
            "Epoch: [13/15], Step: [770/937], Loss: 0.12929099798202515\n",
            "Epoch: [13/15], Step: [840/937], Loss: 0.05070730298757553\n",
            "Epoch: [13/15], Step: [910/937], Loss: 0.18588830530643463\n",
            "Epoch: [14/15], Step: [70/937], Loss: 0.2295989990234375\n",
            "Epoch: [14/15], Step: [140/937], Loss: 0.05921909958124161\n",
            "Epoch: [14/15], Step: [210/937], Loss: 0.057749755680561066\n",
            "Epoch: [14/15], Step: [280/937], Loss: 0.08492307364940643\n",
            "Epoch: [14/15], Step: [350/937], Loss: 0.021415360271930695\n",
            "Epoch: [14/15], Step: [420/937], Loss: 0.21823418140411377\n",
            "Epoch: [14/15], Step: [490/937], Loss: 0.25467488169670105\n",
            "Epoch: [14/15], Step: [560/937], Loss: 0.17198169231414795\n",
            "Epoch: [14/15], Step: [630/937], Loss: 0.15340113639831543\n",
            "Epoch: [14/15], Step: [700/937], Loss: 0.0870286226272583\n",
            "Epoch: [14/15], Step: [770/937], Loss: 0.06794484704732895\n",
            "Epoch: [14/15], Step: [840/937], Loss: 0.19256407022476196\n",
            "Epoch: [14/15], Step: [910/937], Loss: 0.30152612924575806\n",
            "Epoch: [15/15], Step: [70/937], Loss: 0.14138104021549225\n",
            "Epoch: [15/15], Step: [140/937], Loss: 0.05643612891435623\n",
            "Epoch: [15/15], Step: [210/937], Loss: 0.06490489840507507\n",
            "Epoch: [15/15], Step: [280/937], Loss: 0.07345195859670639\n",
            "Epoch: [15/15], Step: [350/937], Loss: 0.14209459722042084\n",
            "Epoch: [15/15], Step: [420/937], Loss: 0.05611681938171387\n",
            "Epoch: [15/15], Step: [490/937], Loss: 0.04816511273384094\n",
            "Epoch: [15/15], Step: [560/937], Loss: 0.19037196040153503\n",
            "Epoch: [15/15], Step: [630/937], Loss: 0.054661527276039124\n",
            "Epoch: [15/15], Step: [700/937], Loss: 0.03825753927230835\n",
            "Epoch: [15/15], Step: [770/937], Loss: 0.07060711830854416\n",
            "Epoch: [15/15], Step: [840/937], Loss: 0.10618967562913895\n",
            "Epoch: [15/15], Step: [910/937], Loss: 0.07760588824748993\n",
            "Accuracy of the model on the 10000 test sequences: 95.0%\n",
            "Accuracy of the model on the 60000 train sequences: 96.8%\n"
          ],
          "name": "stdout"
        },
        {
          "output_type": "execute_result",
          "data": {
            "text/plain": [
              "<matplotlib.legend.Legend at 0x7fa78af22f60>"
            ]
          },
          "metadata": {
            "tags": []
          },
          "execution_count": 18
        },
        {
          "output_type": "display_data",
          "data": {
            "image/png": "[encoded data removed]",
            "text/plain": [
              "<Figure size 432x288 with 1 Axes>"
            ]
          },
          "metadata": {
            "tags": []
          }
        }
      ]
    },
    {
      "cell_type": "code",
      "metadata": {
        "id": "3iCWPdGNiitw",
        "colab_type": "code",
        "colab": {}
      },
      "source": [
        ""
      ],
      "execution_count": 0,
      "outputs": []
    },
    {
      "cell_type": "markdown",
      "metadata": {
        "id": "plFU40N4ijY4",
        "colab_type": "text"
      },
      "source": [
        "Note the difference between training and test accuracy. Some form of regularization should be used to improve the generalization of the model. \n",
        "Examples of regularization to explore include dropout, l1-norm, and l2-norm. "
      ]
    },
    {
      "cell_type": "code",
      "metadata": {
        "id": "PzRH9FbEpiX8",
        "colab_type": "code",
        "colab": {}
      },
      "source": [
        ""
      ],
      "execution_count": 0,
      "outputs": []
    },
    {
      "cell_type": "markdown",
      "metadata": {
        "id": "CdT0Wyw9SPak",
        "colab_type": "text"
      },
      "source": [
        "## Keras Example\n",
        "In this case I also demonstrate an example using the Keras library and in this one I demonstrate the method of running the samples through the reservoir and then classifying using a separate model as a readout layer"
      ]
    },
    {
      "cell_type": "code",
      "metadata": {
        "id": "FCAP-0ewpiYA",
        "colab_type": "code",
        "colab": {
          "base_uri": "https://localhost:8080/",
          "height": 82
        },
        "outputId": "5f42cb5b-aa4c-428d-e93d-36bedc43c2d5"
      },
      "source": [
        "import keras\n",
        "from keras.datasets import mnist\n",
        "from keras.models import Sequential\n",
        "from keras.layers import Dense, Dropout, SimpleRNN, Flatten\n",
        "from keras import initializers\n",
        "from keras.models import model_from_json\n",
        "\n",
        "from keras import optimizers\n",
        "from keras.callbacks import EarlyStopping"
      ],
      "execution_count": 19,
      "outputs": [
        {
          "output_type": "stream",
          "text": [
            "Using TensorFlow backend.\n"
          ],
          "name": "stderr"
        },
        {
          "output_type": "display_data",
          "data": {
            "text/html": [
              "<p style=\"color: red;\">\n",
              "The default version of TensorFlow in Colab will soon switch to TensorFlow 2.x.<br>\n",
              "We recommend you <a href=\"https://www.tensorflow.org/guide/migrate\" target=\"_blank\">upgrade</a> now \n",
              "or ensure your notebook will continue to use TensorFlow 1.x via the <code>%tensorflow_version 1.x</code> magic:\n",
              "<a href=\"https://colab.research.google.com/notebooks/tensorflow_version.ipynb\" target=\"_blank\">more info</a>.</p>\n"
            ],
            "text/plain": [
              "<IPython.core.display.HTML object>"
            ]
          },
          "metadata": {
            "tags": []
          }
        }
      ]
    },
    {
      "cell_type": "code",
      "metadata": {
        "id": "xRbzzE1QpiYC",
        "colab_type": "code",
        "colab": {
          "base_uri": "https://localhost:8080/",
          "height": 53
        },
        "outputId": "1bd147b3-ea8c-4106-9ced-7964108f360e"
      },
      "source": [
        "num_classes = 10\n",
        "img_rows, img_cols = 28, 28\n",
        "(x_train, y_train), (x_test, y_test) = mnist.load_data()\n",
        "\n",
        "# some data preprocessing and normalizing\n",
        "\n",
        "x_train = x_train.astype('float32')\n",
        "x_test = x_test.astype('float32')\n",
        "x_train /= 255\n",
        "x_test /= 255\n",
        "\n",
        "y_train = keras.utils.to_categorical(y_train, num_classes)\n",
        "y_test = keras.utils.to_categorical(y_test, num_classes)"
      ],
      "execution_count": 20,
      "outputs": [
        {
          "output_type": "stream",
          "text": [
            "Downloading data from https://s3.amazonaws.com/img-datasets/mnist.npz\n",
            "11493376/11490434 [==============================] - 1s 0us/step\n"
          ],
          "name": "stdout"
        }
      ]
    },
    {
      "cell_type": "code",
      "metadata": {
        "id": "xLQhrue-piYD",
        "colab_type": "code",
        "colab": {}
      },
      "source": [
        "from numpy.random import seed\n",
        "from tensorflow import set_random_seed\n",
        "from keras import regularizers\n",
        "  \n",
        "# for reproducibility\n",
        "set_seed = 0\n",
        "seed(set_seed)\n",
        "set_random_seed(set_seed)\n",
        "\n",
        "n_hidden = 50\n",
        "epochs = 15\n",
        "batch_size = 64\n",
        "bias_initializer = 'zeros'\n",
        "dropout = 0.0\n",
        "# this returns all of the reservoir output values when set to True\n",
        "return_sequences = True\n",
        "\n",
        "l1 = 0\n",
        "l2 = 0\n",
        "\n",
        "INPUT_SIZE = (x_train.shape[1], x_train.shape[2])\n",
        "\n",
        "# network is initialized with specific weights and is then only trained\n",
        "model = Sequential()\n",
        "model.add(SimpleRNN(n_hidden, activation='tanh', \n",
        "                    kernel_initializer=initializers.RandomUniform(minval=-0.5, maxval=0.5, seed=set_seed),\n",
        "                    bias_initializer=bias_initializer,\n",
        "                    input_shape=INPUT_SIZE,\n",
        "                    return_sequences=return_sequences,\n",
        "                    unroll=False, stateful=False))\n",
        "\n",
        "# In order for the reservoir to have Echo State property the \n",
        "# spectral should be <1\n",
        "spectral_radius = 0.9\n",
        "sparsity = 1.0\n",
        "\n",
        "# gets the weights from the model and generates an effective recurrent weight layer\n",
        "rnn_weights = model.get_weights()\n",
        "esn_recurrent_weights = create_reservoir_matrix(size=rnn_weights[1].shape,\n",
        "                                                  spectral_radius=spectral_radius,\n",
        "                                                  sparsity=sparsity)\n",
        "# assigns the new weights for the recurrent layer to the model and keeps input\n",
        "# weights the same\n",
        "rnn_weights[1] = esn_recurrent_weights\n",
        "model.set_weights(rnn_weights)\n"
      ],
      "execution_count": 0,
      "outputs": []
    },
    {
      "cell_type": "markdown",
      "metadata": {
        "id": "RhEEUhEwtvby",
        "colab_type": "text"
      },
      "source": [
        "Now after building the model and replacing the weights, we can run the inputs through the network and save the output values from each of the reservoir nodes."
      ]
    },
    {
      "cell_type": "code",
      "metadata": {
        "id": "XWYrO3P9Uydm",
        "colab_type": "code",
        "outputId": "b49596d5-9cbe-40aa-e493-bcdb66a41520",
        "colab": {
          "base_uri": "https://localhost:8080/",
          "height": 71
        }
      },
      "source": [
        "\n",
        "# propagate through all the inputs and return final output of cells\n",
        "reservoir_states_train = model.predict(x_train, batch_size=int(len(x_train)/16), verbose=1)\n",
        "reservoir_states_test = model.predict(x_test, batch_size=int(len(x_test)/16), verbose=1)\n",
        "  \n",
        "print(final_state_train.shape)"
      ],
      "execution_count": 33,
      "outputs": [
        {
          "output_type": "stream",
          "text": [
            "60000/60000 [==============================] - 1s 12us/step\n",
            "10000/10000 [==============================] - 0s 30us/step\n",
            "(60000, 28, 50)\n"
          ],
          "name": "stdout"
        }
      ]
    },
    {
      "cell_type": "markdown",
      "metadata": {
        "id": "Zh4RXk2YV2Tq",
        "colab_type": "text"
      },
      "source": [
        "### Final readout layer\n",
        "Here we can use another network to be the readout layer. There are other libraries which can be useful here as well such as with "
      ]
    },
    {
      "cell_type": "code",
      "metadata": {
        "id": "Y3I4PZMVUyv7",
        "colab_type": "code",
        "colab": {
          "base_uri": "https://localhost:8080/",
          "height": 685
        },
        "outputId": "989cf3d7-c4a1-4a69-d81e-1306c864287f"
      },
      "source": [
        "# create the final readout layer, this uses logistic regression\n",
        "\n",
        "model_final_layer=Sequential()\n",
        "# converts the sequence of reservoir outputs to a 1D matrix\n",
        "if return_sequences:\n",
        "  model_final_layer.add(Flatten())\n",
        "model_final_layer.add(Dropout(dropout)) \n",
        "model_final_layer.add(Dense(num_classes, activation='softmax',\n",
        "                            activity_regularizer=regularizers.l1_l2(l1=l1, l2=l2)))\n",
        "                      \n",
        "# set the learning rate and optimizer with some early stopping\n",
        "adam = optimizers.Adam(lr=0.001, beta_1=0.9, beta_2=0.999, epsilon=None, decay=0.0, amsgrad=False)\n",
        "earlystopper = EarlyStopping(monitor='val_acc', patience=10, verbose=1)\n",
        "\n",
        "model_final_layer.compile(loss='categorical_crossentropy',\n",
        "                          optimizer=adam,\n",
        "                          metrics=['accuracy'])\n",
        "\n",
        "history = model_final_layer.fit(reservoir_states_train, y_train, epochs=epochs, \n",
        "                      batch_size=batch_size, \n",
        "                      validation_data=(reservoir_states_test, y_test), verbose=2, \n",
        "                      shuffle=True, callbacks=[earlystopper])"
      ],
      "execution_count": 34,
      "outputs": [
        {
          "output_type": "stream",
          "text": [
            "WARNING:tensorflow:From /usr/local/lib/python3.6/dist-packages/keras/backend/tensorflow_backend.py:148: The name tf.placeholder_with_default is deprecated. Please use tf.compat.v1.placeholder_with_default instead.\n",
            "\n",
            "WARNING:tensorflow:From /usr/local/lib/python3.6/dist-packages/keras/backend/tensorflow_backend.py:3733: calling dropout (from tensorflow.python.ops.nn_ops) with keep_prob is deprecated and will be removed in a future version.\n",
            "Instructions for updating:\n",
            "Please use `rate` instead of `keep_prob`. Rate should be set to `rate = 1 - keep_prob`.\n",
            "Train on 60000 samples, validate on 10000 samples\n",
            "Epoch 1/15\n",
            " - 4s - loss: 0.4397 - acc: 0.8719 - val_loss: 0.2965 - val_acc: 0.9129\n",
            "Epoch 2/15\n",
            " - 3s - loss: 0.2943 - acc: 0.9143 - val_loss: 0.2564 - val_acc: 0.9238\n",
            "Epoch 3/15\n",
            " - 3s - loss: 0.2674 - acc: 0.9220 - val_loss: 0.2412 - val_acc: 0.9289\n",
            "Epoch 4/15\n",
            " - 3s - loss: 0.2520 - acc: 0.9270 - val_loss: 0.2328 - val_acc: 0.9298\n",
            "Epoch 5/15\n",
            " - 3s - loss: 0.2401 - acc: 0.9300 - val_loss: 0.2309 - val_acc: 0.9327\n",
            "Epoch 6/15\n",
            " - 3s - loss: 0.2321 - acc: 0.9323 - val_loss: 0.2152 - val_acc: 0.9350\n",
            "Epoch 7/15\n",
            " - 3s - loss: 0.2252 - acc: 0.9339 - val_loss: 0.2138 - val_acc: 0.9339\n",
            "Epoch 8/15\n",
            " - 3s - loss: 0.2202 - acc: 0.9359 - val_loss: 0.2061 - val_acc: 0.9355\n",
            "Epoch 9/15\n",
            " - 3s - loss: 0.2170 - acc: 0.9365 - val_loss: 0.2073 - val_acc: 0.9364\n",
            "Epoch 10/15\n",
            " - 3s - loss: 0.2138 - acc: 0.9372 - val_loss: 0.2026 - val_acc: 0.9387\n",
            "Epoch 11/15\n",
            " - 3s - loss: 0.2111 - acc: 0.9388 - val_loss: 0.1961 - val_acc: 0.9408\n",
            "Epoch 12/15\n",
            " - 3s - loss: 0.2064 - acc: 0.9385 - val_loss: 0.1974 - val_acc: 0.9391\n",
            "Epoch 13/15\n",
            " - 3s - loss: 0.2037 - acc: 0.9402 - val_loss: 0.1984 - val_acc: 0.9394\n",
            "Epoch 14/15\n",
            " - 3s - loss: 0.2017 - acc: 0.9413 - val_loss: 0.2022 - val_acc: 0.9380\n",
            "Epoch 15/15\n",
            " - 3s - loss: 0.2022 - acc: 0.9399 - val_loss: 0.1918 - val_acc: 0.9411\n"
          ],
          "name": "stdout"
        }
      ]
    },
    {
      "cell_type": "code",
      "metadata": {
        "id": "o2cDYnXtUy9T",
        "colab_type": "code",
        "colab": {
          "base_uri": "https://localhost:8080/",
          "height": 265
        },
        "outputId": "55fab301-749e-4229-d07b-5475d3b21647"
      },
      "source": [
        "# plot history\n",
        "plt.plot(history.history['loss'], label='train loss')\n",
        "plt.plot(history.history['acc'], label='train accuracy')\n",
        "plt.plot(history.history['val_loss'], label='test loss')\n",
        "plt.plot(history.history['val_acc'], label='test accuracy')\n",
        "plt.legend()\n",
        "plt.show()"
      ],
      "execution_count": 35,
      "outputs": [
        {
          "output_type": "display_data",
          "data": {
            "image/png": "[encoded data removed]",
            "text/plain": [
              "<Figure size 432x288 with 1 Axes>"
            ]
          },
          "metadata": {
            "tags": []
          }
        }
      ]
    }
  ]
}